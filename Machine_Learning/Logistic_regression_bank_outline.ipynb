{
 "cells": [
  {
   "cell_type": "markdown",
   "id": "cleared-month",
   "metadata": {},
   "source": [
    "## Binary classification with Logistic regression "
   ]
  },
  {
   "cell_type": "markdown",
   "id": "daily-planner",
   "metadata": {},
   "source": [
    "### import libraries "
   ]
  },
  {
   "cell_type": "code",
   "execution_count": 2,
   "id": "characteristic-flavor",
   "metadata": {},
   "outputs": [],
   "source": [
    "import pandas as pd\n",
    "import numpy as np\n",
    "import seaborn as sns\n",
    "import matplotlib.pyplot as plt\n",
    "\n",
    "import pymysql\n",
    "from sqlalchemy import create_engine\n"
   ]
  },
  {
   "cell_type": "markdown",
   "id": "static-cloud",
   "metadata": {},
   "source": [
    "### connection to sql "
   ]
  },
  {
   "cell_type": "code",
   "execution_count": 4,
   "id": "restricted-maple",
   "metadata": {},
   "outputs": [],
   "source": [
    "#connection string\n",
    "connection_string = 'mysql+pymysql://root:' + 'coding' + '@localhost/bank'\n",
    "engine = create_engine(connection_string)\n"
   ]
  },
  {
   "cell_type": "code",
   "execution_count": 26,
   "id": "based-touch",
   "metadata": {},
   "outputs": [],
   "source": [
    "#query as a df\n",
    "df= pd.read_sql_query('''\n",
    "select l.loan_id, l.status, count(distinct t.trans_id) as nooftrans,\n",
    "DATEDIFF(19981231, convert(a.date,date)) as ageindays, \n",
    "d.A12 as 95unemp, d.A13 as 96unemp, dp.type,\n",
    "l.amount as loanamount, c.birth_number, d.A15 as crime95, d.A16 as crime96,\n",
    "round((l.amount-l.payments)/l.amount,2) as ratiopaid\n",
    "from loan l\n",
    "left join trans t\n",
    "using(account_id)\n",
    "left join account a\n",
    "using(account_id)\n",
    "left join district d\n",
    "on a.district_id = d.A1\n",
    "left join disp dp\n",
    "on a.account_id= dp.account_id \n",
    "left join client c\n",
    "using(client_id)\n",
    "where l.status in('A','B') and dp.type='OWNER'\n",
    "group by loan_id, l.amount, status, d.A12, d.A13, c.birth_number, d.A15, d.A16, DATEDIFF(19981231, convert(a.date,date)),\n",
    " dp.type, round((l.amount-l.payments)/l.amount,2)\n",
    "''', engine)\n"
   ]
  },
  {
   "cell_type": "code",
   "execution_count": 27,
   "id": "athletic-climate",
   "metadata": {},
   "outputs": [
    {
     "data": {
      "text/plain": [
       "<bound method NDFrame.head of      loan_id status  nooftrans  ageindays  95unemp  96unemp   type  \\\n",
       "0       4959      A        374       2134     0.29     0.43  OWNER   \n",
       "1       4961      B        259       1364     1.51     2.07  OWNER   \n",
       "2       4962      A        225        886     4.09     4.72  OWNER   \n",
       "3       4973      A        295       1534     1.12     1.54  OWNER   \n",
       "4       4986      A        209        970     4.75     5.44  OWNER   \n",
       "..       ...    ...        ...        ...      ...      ...    ...   \n",
       "229     7264      A        126        688     0.29     0.43  OWNER   \n",
       "230     7277      A        128        694     0.29     0.43  OWNER   \n",
       "231     7284      A        368       2177     3.13     3.60  OWNER   \n",
       "232     7305      A        303       1552     4.76     5.74  OWNER   \n",
       "233     7308      A        244       1174     5.77     6.55  OWNER   \n",
       "\n",
       "     loanamount  birth_number  crime95  crime96  ratiopaid  \n",
       "0         80952        450204    85677    99107       0.96  \n",
       "1         30276        395423     2299     2354       0.92  \n",
       "2         30276        620209     5623     5887       0.92  \n",
       "3        165960        445613     1874     1913       0.96  \n",
       "4        102876        420128    18782    18347       0.92  \n",
       "..          ...           ...      ...      ...        ...  \n",
       "229       44940        765120    85677    99107       0.92  \n",
       "230       89280        471114    85677    99107       0.92  \n",
       "231       52788        730216     1845     1879       0.92  \n",
       "232       54024        680413     2112     2059       0.92  \n",
       "233      129408        626019     3244     3079       0.96  \n",
       "\n",
       "[234 rows x 12 columns]>"
      ]
     },
     "execution_count": 27,
     "metadata": {},
     "output_type": "execute_result"
    }
   ],
   "source": [
    "#use head to confirm the df works as expected \n",
    "\n",
    "df.head"
   ]
  },
  {
   "cell_type": "markdown",
   "id": "reduced-jamaica",
   "metadata": {},
   "source": [
    "### EDA - exploratory data analysis - get to know the data "
   ]
  },
  {
   "cell_type": "code",
   "execution_count": 28,
   "id": "certified-biotechnology",
   "metadata": {},
   "outputs": [
    {
     "name": "stdout",
     "output_type": "stream",
     "text": [
      "<class 'pandas.core.frame.DataFrame'>\n",
      "RangeIndex: 234 entries, 0 to 233\n",
      "Data columns (total 12 columns):\n",
      " #   Column        Non-Null Count  Dtype  \n",
      "---  ------        --------------  -----  \n",
      " 0   loan_id       234 non-null    int64  \n",
      " 1   status        234 non-null    object \n",
      " 2   nooftrans     234 non-null    int64  \n",
      " 3   ageindays     234 non-null    int64  \n",
      " 4   95unemp       234 non-null    float64\n",
      " 5   96unemp       234 non-null    float64\n",
      " 6   type          234 non-null    object \n",
      " 7   loanamount    234 non-null    int64  \n",
      " 8   birth_number  234 non-null    int64  \n",
      " 9   crime95       234 non-null    int64  \n",
      " 10  crime96       234 non-null    int64  \n",
      " 11  ratiopaid     234 non-null    float64\n",
      "dtypes: float64(3), int64(7), object(2)\n",
      "memory usage: 22.1+ KB\n"
     ]
    }
   ],
   "source": [
    "df.info()"
   ]
  },
  {
   "cell_type": "code",
   "execution_count": 29,
   "id": "laughing-mediterranean",
   "metadata": {},
   "outputs": [
    {
     "data": {
      "text/html": [
       "<div>\n",
       "<style scoped>\n",
       "    .dataframe tbody tr th:only-of-type {\n",
       "        vertical-align: middle;\n",
       "    }\n",
       "\n",
       "    .dataframe tbody tr th {\n",
       "        vertical-align: top;\n",
       "    }\n",
       "\n",
       "    .dataframe thead th {\n",
       "        text-align: right;\n",
       "    }\n",
       "</style>\n",
       "<table border=\"1\" class=\"dataframe\">\n",
       "  <thead>\n",
       "    <tr style=\"text-align: right;\">\n",
       "      <th></th>\n",
       "      <th>loan_id</th>\n",
       "      <th>nooftrans</th>\n",
       "      <th>ageindays</th>\n",
       "      <th>95unemp</th>\n",
       "      <th>96unemp</th>\n",
       "      <th>loanamount</th>\n",
       "      <th>birth_number</th>\n",
       "      <th>crime95</th>\n",
       "      <th>crime96</th>\n",
       "      <th>ratiopaid</th>\n",
       "    </tr>\n",
       "  </thead>\n",
       "  <tbody>\n",
       "    <tr>\n",
       "      <th>count</th>\n",
       "      <td>234.000000</td>\n",
       "      <td>234.000000</td>\n",
       "      <td>234.000000</td>\n",
       "      <td>234.000000</td>\n",
       "      <td>234.000000</td>\n",
       "      <td>234.000000</td>\n",
       "      <td>234.000000</td>\n",
       "      <td>234.000000</td>\n",
       "      <td>234.000000</td>\n",
       "      <td>234.000000</td>\n",
       "    </tr>\n",
       "    <tr>\n",
       "      <th>mean</th>\n",
       "      <td>6233.803419</td>\n",
       "      <td>317.794872</td>\n",
       "      <td>1633.615385</td>\n",
       "      <td>2.867735</td>\n",
       "      <td>3.519487</td>\n",
       "      <td>98143.435897</td>\n",
       "      <td>579128.367521</td>\n",
       "      <td>17469.858974</td>\n",
       "      <td>19639.179487</td>\n",
       "      <td>0.945513</td>\n",
       "    </tr>\n",
       "    <tr>\n",
       "      <th>std</th>\n",
       "      <td>680.590147</td>\n",
       "      <td>101.515938</td>\n",
       "      <td>458.123807</td>\n",
       "      <td>1.986507</td>\n",
       "      <td>2.266641</td>\n",
       "      <td>72013.383242</td>\n",
       "      <td>129120.756354</td>\n",
       "      <td>29906.361998</td>\n",
       "      <td>34746.947993</td>\n",
       "      <td>0.023290</td>\n",
       "    </tr>\n",
       "    <tr>\n",
       "      <th>min</th>\n",
       "      <td>4959.000000</td>\n",
       "      <td>108.000000</td>\n",
       "      <td>550.000000</td>\n",
       "      <td>0.000000</td>\n",
       "      <td>0.430000</td>\n",
       "      <td>4980.000000</td>\n",
       "      <td>350721.000000</td>\n",
       "      <td>0.000000</td>\n",
       "      <td>888.000000</td>\n",
       "      <td>0.920000</td>\n",
       "    </tr>\n",
       "    <tr>\n",
       "      <th>25%</th>\n",
       "      <td>5684.750000</td>\n",
       "      <td>228.250000</td>\n",
       "      <td>1224.250000</td>\n",
       "      <td>1.390000</td>\n",
       "      <td>1.960000</td>\n",
       "      <td>45039.000000</td>\n",
       "      <td>465172.000000</td>\n",
       "      <td>2157.500000</td>\n",
       "      <td>2252.000000</td>\n",
       "      <td>0.920000</td>\n",
       "    </tr>\n",
       "    <tr>\n",
       "      <th>50%</th>\n",
       "      <td>6300.000000</td>\n",
       "      <td>336.500000</td>\n",
       "      <td>1847.500000</td>\n",
       "      <td>2.790000</td>\n",
       "      <td>3.600000</td>\n",
       "      <td>80646.000000</td>\n",
       "      <td>580767.000000</td>\n",
       "      <td>3804.000000</td>\n",
       "      <td>3894.000000</td>\n",
       "      <td>0.960000</td>\n",
       "    </tr>\n",
       "    <tr>\n",
       "      <th>75%</th>\n",
       "      <td>6756.750000</td>\n",
       "      <td>389.500000</td>\n",
       "      <td>2029.750000</td>\n",
       "      <td>4.090000</td>\n",
       "      <td>4.772500</td>\n",
       "      <td>126960.000000</td>\n",
       "      <td>685783.750000</td>\n",
       "      <td>9878.000000</td>\n",
       "      <td>10108.000000</td>\n",
       "      <td>0.960000</td>\n",
       "    </tr>\n",
       "    <tr>\n",
       "      <th>max</th>\n",
       "      <td>7308.000000</td>\n",
       "      <td>548.000000</td>\n",
       "      <td>2178.000000</td>\n",
       "      <td>7.340000</td>\n",
       "      <td>9.400000</td>\n",
       "      <td>464520.000000</td>\n",
       "      <td>805709.000000</td>\n",
       "      <td>85677.000000</td>\n",
       "      <td>99107.000000</td>\n",
       "      <td>0.980000</td>\n",
       "    </tr>\n",
       "  </tbody>\n",
       "</table>\n",
       "</div>"
      ],
      "text/plain": [
       "           loan_id   nooftrans    ageindays     95unemp     96unemp  \\\n",
       "count   234.000000  234.000000   234.000000  234.000000  234.000000   \n",
       "mean   6233.803419  317.794872  1633.615385    2.867735    3.519487   \n",
       "std     680.590147  101.515938   458.123807    1.986507    2.266641   \n",
       "min    4959.000000  108.000000   550.000000    0.000000    0.430000   \n",
       "25%    5684.750000  228.250000  1224.250000    1.390000    1.960000   \n",
       "50%    6300.000000  336.500000  1847.500000    2.790000    3.600000   \n",
       "75%    6756.750000  389.500000  2029.750000    4.090000    4.772500   \n",
       "max    7308.000000  548.000000  2178.000000    7.340000    9.400000   \n",
       "\n",
       "          loanamount   birth_number       crime95       crime96   ratiopaid  \n",
       "count     234.000000     234.000000    234.000000    234.000000  234.000000  \n",
       "mean    98143.435897  579128.367521  17469.858974  19639.179487    0.945513  \n",
       "std     72013.383242  129120.756354  29906.361998  34746.947993    0.023290  \n",
       "min      4980.000000  350721.000000      0.000000    888.000000    0.920000  \n",
       "25%     45039.000000  465172.000000   2157.500000   2252.000000    0.920000  \n",
       "50%     80646.000000  580767.000000   3804.000000   3894.000000    0.960000  \n",
       "75%    126960.000000  685783.750000   9878.000000  10108.000000    0.960000  \n",
       "max    464520.000000  805709.000000  85677.000000  99107.000000    0.980000  "
      ]
     },
     "execution_count": 29,
     "metadata": {},
     "output_type": "execute_result"
    }
   ],
   "source": [
    "df.describe()"
   ]
  },
  {
   "cell_type": "code",
   "execution_count": 30,
   "id": "silent-parallel",
   "metadata": {},
   "outputs": [
    {
     "data": {
      "text/plain": [
       "loan_id           int64\n",
       "status           object\n",
       "nooftrans         int64\n",
       "ageindays         int64\n",
       "95unemp         float64\n",
       "96unemp         float64\n",
       "type             object\n",
       "loanamount        int64\n",
       "birth_number      int64\n",
       "crime95           int64\n",
       "crime96           int64\n",
       "ratiopaid       float64\n",
       "dtype: object"
      ]
     },
     "execution_count": 30,
     "metadata": {},
     "output_type": "execute_result"
    }
   ],
   "source": [
    "df.dtypes"
   ]
  },
  {
   "cell_type": "code",
   "execution_count": 31,
   "id": "bd44be68",
   "metadata": {},
   "outputs": [
    {
     "data": {
      "text/plain": [
       "A    203\n",
       "B     31\n",
       "Name: status, dtype: int64"
      ]
     },
     "execution_count": 31,
     "metadata": {},
     "output_type": "execute_result"
    }
   ],
   "source": [
    "df['status'].value_counts()"
   ]
  },
  {
   "cell_type": "markdown",
   "id": "48db2db8",
   "metadata": {},
   "source": [
    "### histograms or boxplots\n",
    "\n"
   ]
  },
  {
   "cell_type": "code",
   "execution_count": 32,
   "id": "97ffe825",
   "metadata": {},
   "outputs": [
    {
     "data": {
      "text/plain": [
       "<seaborn.axisgrid.FacetGrid at 0x122b48f40>"
      ]
     },
     "execution_count": 32,
     "metadata": {},
     "output_type": "execute_result"
    },
    {
     "data": {
      "image/png": "[encoded data removed]",
      "text/plain": [
       "<Figure size 402.875x360 with 1 Axes>"
      ]
     },
     "metadata": {
      "needs_background": "light"
     },
     "output_type": "display_data"
    }
   ],
   "source": [
    "sns.displot(df, x='nooftrans', hue='status')"
   ]
  },
  {
   "cell_type": "code",
   "execution_count": 18,
   "id": "cccec3e8",
   "metadata": {},
   "outputs": [
    {
     "data": {
      "text/plain": [
       "<AxesSubplot:xlabel='loanamount', ylabel='status'>"
      ]
     },
     "execution_count": 18,
     "metadata": {},
     "output_type": "execute_result"
    },
    {
     "data": {
      "image/png": "[encoded data removed]",
      "text/plain": [
       "<Figure size 432x288 with 1 Axes>"
      ]
     },
     "metadata": {
      "needs_background": "light"
     },
     "output_type": "display_data"
    }
   ],
   "source": [
    "sns.barplot(x='loanamount', y='status', data=df)"
   ]
  },
  {
   "cell_type": "code",
   "execution_count": 20,
   "id": "a815b79a",
   "metadata": {},
   "outputs": [
    {
     "data": {
      "text/plain": [
       "<seaborn.axisgrid.FacetGrid at 0x123382c10>"
      ]
     },
     "execution_count": 20,
     "metadata": {},
     "output_type": "execute_result"
    },
    {
     "data": {
      "image/png": "[encoded data removed]",
      "text/plain": [
       "<Figure size 360x360 with 1 Axes>"
      ]
     },
     "metadata": {
      "needs_background": "light"
     },
     "output_type": "display_data"
    }
   ],
   "source": [
    "sns.displot(df['ageofaccount'])"
   ]
  },
  {
   "cell_type": "markdown",
   "id": "d139d943",
   "metadata": {},
   "source": [
    "### Check for multicollinearity "
   ]
  },
  {
   "cell_type": "code",
   "execution_count": 24,
   "id": "0d7d7974",
   "metadata": {},
   "outputs": [
    {
     "data": {
      "text/html": [
       "<div>\n",
       "<style scoped>\n",
       "    .dataframe tbody tr th:only-of-type {\n",
       "        vertical-align: middle;\n",
       "    }\n",
       "\n",
       "    .dataframe tbody tr th {\n",
       "        vertical-align: top;\n",
       "    }\n",
       "\n",
       "    .dataframe thead th {\n",
       "        text-align: right;\n",
       "    }\n",
       "</style>\n",
       "<table border=\"1\" class=\"dataframe\">\n",
       "  <thead>\n",
       "    <tr style=\"text-align: right;\">\n",
       "      <th></th>\n",
       "      <th>loan_id</th>\n",
       "      <th>nooftrans</th>\n",
       "      <th>ageofaccount</th>\n",
       "      <th>95unemp</th>\n",
       "      <th>96unemp</th>\n",
       "      <th>loanamount</th>\n",
       "      <th>birth_number</th>\n",
       "      <th>crime95</th>\n",
       "      <th>crime96</th>\n",
       "      <th>ratiopaid</th>\n",
       "    </tr>\n",
       "  </thead>\n",
       "  <tbody>\n",
       "    <tr>\n",
       "      <th>loan_id</th>\n",
       "      <td>1.000000</td>\n",
       "      <td>0.108456</td>\n",
       "      <td>0.076456</td>\n",
       "      <td>-0.083545</td>\n",
       "      <td>-0.078858</td>\n",
       "      <td>0.082673</td>\n",
       "      <td>0.151662</td>\n",
       "      <td>0.144176</td>\n",
       "      <td>0.143709</td>\n",
       "      <td>0.120034</td>\n",
       "    </tr>\n",
       "    <tr>\n",
       "      <th>nooftrans</th>\n",
       "      <td>0.108456</td>\n",
       "      <td>1.000000</td>\n",
       "      <td>0.880112</td>\n",
       "      <td>-0.107024</td>\n",
       "      <td>-0.142902</td>\n",
       "      <td>0.200899</td>\n",
       "      <td>0.085988</td>\n",
       "      <td>0.061994</td>\n",
       "      <td>0.062902</td>\n",
       "      <td>0.353508</td>\n",
       "    </tr>\n",
       "    <tr>\n",
       "      <th>ageofaccount</th>\n",
       "      <td>0.076456</td>\n",
       "      <td>0.880112</td>\n",
       "      <td>1.000000</td>\n",
       "      <td>-0.146500</td>\n",
       "      <td>-0.185622</td>\n",
       "      <td>0.285886</td>\n",
       "      <td>0.063039</td>\n",
       "      <td>0.049172</td>\n",
       "      <td>0.049698</td>\n",
       "      <td>0.456264</td>\n",
       "    </tr>\n",
       "    <tr>\n",
       "      <th>95unemp</th>\n",
       "      <td>-0.083545</td>\n",
       "      <td>-0.107024</td>\n",
       "      <td>-0.146500</td>\n",
       "      <td>1.000000</td>\n",
       "      <td>0.953504</td>\n",
       "      <td>-0.012914</td>\n",
       "      <td>0.055640</td>\n",
       "      <td>-0.534407</td>\n",
       "      <td>-0.540018</td>\n",
       "      <td>-0.049599</td>\n",
       "    </tr>\n",
       "    <tr>\n",
       "      <th>96unemp</th>\n",
       "      <td>-0.078858</td>\n",
       "      <td>-0.142902</td>\n",
       "      <td>-0.185622</td>\n",
       "      <td>0.953504</td>\n",
       "      <td>1.000000</td>\n",
       "      <td>-0.009944</td>\n",
       "      <td>0.041388</td>\n",
       "      <td>-0.568564</td>\n",
       "      <td>-0.572576</td>\n",
       "      <td>-0.050709</td>\n",
       "    </tr>\n",
       "    <tr>\n",
       "      <th>loanamount</th>\n",
       "      <td>0.082673</td>\n",
       "      <td>0.200899</td>\n",
       "      <td>0.285886</td>\n",
       "      <td>-0.012914</td>\n",
       "      <td>-0.009944</td>\n",
       "      <td>1.000000</td>\n",
       "      <td>0.008705</td>\n",
       "      <td>-0.007111</td>\n",
       "      <td>-0.005546</td>\n",
       "      <td>0.596621</td>\n",
       "    </tr>\n",
       "    <tr>\n",
       "      <th>birth_number</th>\n",
       "      <td>0.151662</td>\n",
       "      <td>0.085988</td>\n",
       "      <td>0.063039</td>\n",
       "      <td>0.055640</td>\n",
       "      <td>0.041388</td>\n",
       "      <td>0.008705</td>\n",
       "      <td>1.000000</td>\n",
       "      <td>-0.019644</td>\n",
       "      <td>-0.019462</td>\n",
       "      <td>0.034583</td>\n",
       "    </tr>\n",
       "    <tr>\n",
       "      <th>crime95</th>\n",
       "      <td>0.144176</td>\n",
       "      <td>0.061994</td>\n",
       "      <td>0.049172</td>\n",
       "      <td>-0.534407</td>\n",
       "      <td>-0.568564</td>\n",
       "      <td>-0.007111</td>\n",
       "      <td>-0.019644</td>\n",
       "      <td>1.000000</td>\n",
       "      <td>0.999728</td>\n",
       "      <td>0.018829</td>\n",
       "    </tr>\n",
       "    <tr>\n",
       "      <th>crime96</th>\n",
       "      <td>0.143709</td>\n",
       "      <td>0.062902</td>\n",
       "      <td>0.049698</td>\n",
       "      <td>-0.540018</td>\n",
       "      <td>-0.572576</td>\n",
       "      <td>-0.005546</td>\n",
       "      <td>-0.019462</td>\n",
       "      <td>0.999728</td>\n",
       "      <td>1.000000</td>\n",
       "      <td>0.020247</td>\n",
       "    </tr>\n",
       "    <tr>\n",
       "      <th>ratiopaid</th>\n",
       "      <td>0.120034</td>\n",
       "      <td>0.353508</td>\n",
       "      <td>0.456264</td>\n",
       "      <td>-0.049599</td>\n",
       "      <td>-0.050709</td>\n",
       "      <td>0.596621</td>\n",
       "      <td>0.034583</td>\n",
       "      <td>0.018829</td>\n",
       "      <td>0.020247</td>\n",
       "      <td>1.000000</td>\n",
       "    </tr>\n",
       "  </tbody>\n",
       "</table>\n",
       "</div>"
      ],
      "text/plain": [
       "               loan_id  nooftrans  ageofaccount   95unemp   96unemp  \\\n",
       "loan_id       1.000000   0.108456      0.076456 -0.083545 -0.078858   \n",
       "nooftrans     0.108456   1.000000      0.880112 -0.107024 -0.142902   \n",
       "ageofaccount  0.076456   0.880112      1.000000 -0.146500 -0.185622   \n",
       "95unemp      -0.083545  -0.107024     -0.146500  1.000000  0.953504   \n",
       "96unemp      -0.078858  -0.142902     -0.185622  0.953504  1.000000   \n",
       "loanamount    0.082673   0.200899      0.285886 -0.012914 -0.009944   \n",
       "birth_number  0.151662   0.085988      0.063039  0.055640  0.041388   \n",
       "crime95       0.144176   0.061994      0.049172 -0.534407 -0.568564   \n",
       "crime96       0.143709   0.062902      0.049698 -0.540018 -0.572576   \n",
       "ratiopaid     0.120034   0.353508      0.456264 -0.049599 -0.050709   \n",
       "\n",
       "              loanamount  birth_number   crime95   crime96  ratiopaid  \n",
       "loan_id         0.082673      0.151662  0.144176  0.143709   0.120034  \n",
       "nooftrans       0.200899      0.085988  0.061994  0.062902   0.353508  \n",
       "ageofaccount    0.285886      0.063039  0.049172  0.049698   0.456264  \n",
       "95unemp        -0.012914      0.055640 -0.534407 -0.540018  -0.049599  \n",
       "96unemp        -0.009944      0.041388 -0.568564 -0.572576  -0.050709  \n",
       "loanamount      1.000000      0.008705 -0.007111 -0.005546   0.596621  \n",
       "birth_number    0.008705      1.000000 -0.019644 -0.019462   0.034583  \n",
       "crime95        -0.007111     -0.019644  1.000000  0.999728   0.018829  \n",
       "crime96        -0.005546     -0.019462  0.999728  1.000000   0.020247  \n",
       "ratiopaid       0.596621      0.034583  0.018829  0.020247   1.000000  "
      ]
     },
     "execution_count": 24,
     "metadata": {},
     "output_type": "execute_result"
    }
   ],
   "source": [
    "correlation = df.corr()\n",
    "correlation"
   ]
  },
  {
   "cell_type": "code",
   "execution_count": 86,
   "id": "4b78ead1",
   "metadata": {},
   "outputs": [
    {
     "data": {
      "image/png": "[encoded data removed]",
      "text/plain": [
       "<Figure size 720x576 with 2 Axes>"
      ]
     },
     "metadata": {
      "needs_background": "light"
     },
     "output_type": "display_data"
    }
   ],
   "source": [
    "corr_matrix=df.corr(method='pearson')\n",
    "fig,ax=plt.subplots(figsize=(10,8))\n",
    "mask = np.triu(np.ones_like(corr_matrix, dtype=bool))\n",
    "ax=sns.heatmap(corr_matrix, mask=mask, annot=True)\n",
    "plt.show()"
   ]
  },
  {
   "cell_type": "markdown",
   "id": "responsible-drive",
   "metadata": {},
   "source": [
    "### Clean and wrangling steps "
   ]
  },
  {
   "cell_type": "code",
   "execution_count": 87,
   "id": "professional-miniature",
   "metadata": {},
   "outputs": [],
   "source": [
    "# clean /wrangling steps suggested :\n",
    "# bucket into categories any fields \n",
    "# should we drop any columns ? (iterative process)\n",
    "# extract gender from birth_number\n",
    "# data type changes \n",
    "#drop highly correlated features \n",
    "#create avg of criminality / unempl rate \n",
    "# crime - divide by population \n",
    "# bring in any missing fields \n",
    "# change unempl into HML \n",
    "# change crime numbers into one column - sum the two columns \n",
    "# bring in the C and D statuses - and then using a function map to good or bad \n",
    "# OR multi class regression ?\n",
    "# k symbol might be worth including \n",
    "# loan duration \n",
    "\n",
    "#feature engineering - take the columns and make more useful \n",
    "\n",
    "\n",
    "\n",
    "# split the data into num and cat --- > diff options cleaning / scaling "
   ]
  },
  {
   "cell_type": "code",
   "execution_count": null,
   "id": "2199a4c7",
   "metadata": {},
   "outputs": [],
   "source": [
    "#Extract gender\n"
   ]
  },
  {
   "cell_type": "code",
   "execution_count": 37,
   "id": "a0e29550",
   "metadata": {},
   "outputs": [],
   "source": [
    "df.drop(['loan_id','type'], axis=1, inplace=True)"
   ]
  },
  {
   "cell_type": "code",
   "execution_count": 38,
   "id": "6176687c",
   "metadata": {},
   "outputs": [
    {
     "data": {
      "text/html": [
       "<div>\n",
       "<style scoped>\n",
       "    .dataframe tbody tr th:only-of-type {\n",
       "        vertical-align: middle;\n",
       "    }\n",
       "\n",
       "    .dataframe tbody tr th {\n",
       "        vertical-align: top;\n",
       "    }\n",
       "\n",
       "    .dataframe thead th {\n",
       "        text-align: right;\n",
       "    }\n",
       "</style>\n",
       "<table border=\"1\" class=\"dataframe\">\n",
       "  <thead>\n",
       "    <tr style=\"text-align: right;\">\n",
       "      <th></th>\n",
       "      <th>status</th>\n",
       "      <th>nooftrans</th>\n",
       "      <th>ageindays</th>\n",
       "      <th>95unemp</th>\n",
       "      <th>96unemp</th>\n",
       "      <th>loanamount</th>\n",
       "      <th>birth_number</th>\n",
       "      <th>crime95</th>\n",
       "      <th>crime96</th>\n",
       "      <th>ratiopaid</th>\n",
       "    </tr>\n",
       "  </thead>\n",
       "  <tbody>\n",
       "    <tr>\n",
       "      <th>0</th>\n",
       "      <td>A</td>\n",
       "      <td>374</td>\n",
       "      <td>2134</td>\n",
       "      <td>0.29</td>\n",
       "      <td>0.43</td>\n",
       "      <td>80952</td>\n",
       "      <td>450204</td>\n",
       "      <td>85677</td>\n",
       "      <td>99107</td>\n",
       "      <td>0.96</td>\n",
       "    </tr>\n",
       "    <tr>\n",
       "      <th>1</th>\n",
       "      <td>B</td>\n",
       "      <td>259</td>\n",
       "      <td>1364</td>\n",
       "      <td>1.51</td>\n",
       "      <td>2.07</td>\n",
       "      <td>30276</td>\n",
       "      <td>395423</td>\n",
       "      <td>2299</td>\n",
       "      <td>2354</td>\n",
       "      <td>0.92</td>\n",
       "    </tr>\n",
       "    <tr>\n",
       "      <th>2</th>\n",
       "      <td>A</td>\n",
       "      <td>225</td>\n",
       "      <td>886</td>\n",
       "      <td>4.09</td>\n",
       "      <td>4.72</td>\n",
       "      <td>30276</td>\n",
       "      <td>620209</td>\n",
       "      <td>5623</td>\n",
       "      <td>5887</td>\n",
       "      <td>0.92</td>\n",
       "    </tr>\n",
       "    <tr>\n",
       "      <th>3</th>\n",
       "      <td>A</td>\n",
       "      <td>295</td>\n",
       "      <td>1534</td>\n",
       "      <td>1.12</td>\n",
       "      <td>1.54</td>\n",
       "      <td>165960</td>\n",
       "      <td>445613</td>\n",
       "      <td>1874</td>\n",
       "      <td>1913</td>\n",
       "      <td>0.96</td>\n",
       "    </tr>\n",
       "    <tr>\n",
       "      <th>4</th>\n",
       "      <td>A</td>\n",
       "      <td>209</td>\n",
       "      <td>970</td>\n",
       "      <td>4.75</td>\n",
       "      <td>5.44</td>\n",
       "      <td>102876</td>\n",
       "      <td>420128</td>\n",
       "      <td>18782</td>\n",
       "      <td>18347</td>\n",
       "      <td>0.92</td>\n",
       "    </tr>\n",
       "  </tbody>\n",
       "</table>\n",
       "</div>"
      ],
      "text/plain": [
       "  status  nooftrans  ageindays  95unemp  96unemp  loanamount  birth_number  \\\n",
       "0      A        374       2134     0.29     0.43       80952        450204   \n",
       "1      B        259       1364     1.51     2.07       30276        395423   \n",
       "2      A        225        886     4.09     4.72       30276        620209   \n",
       "3      A        295       1534     1.12     1.54      165960        445613   \n",
       "4      A        209        970     4.75     5.44      102876        420128   \n",
       "\n",
       "   crime95  crime96  ratiopaid  \n",
       "0    85677    99107       0.96  \n",
       "1     2299     2354       0.92  \n",
       "2     5623     5887       0.92  \n",
       "3     1874     1913       0.96  \n",
       "4    18782    18347       0.92  "
      ]
     },
     "execution_count": 38,
     "metadata": {},
     "output_type": "execute_result"
    }
   ],
   "source": [
    "df.head()"
   ]
  },
  {
   "cell_type": "markdown",
   "id": "0608477c",
   "metadata": {},
   "source": [
    "### Pre processing "
   ]
  },
  {
   "cell_type": "code",
   "execution_count": null,
   "id": "caring-indian",
   "metadata": {},
   "outputs": [],
   "source": [
    "# label / encode categorical columns \n",
    "\n",
    "# scale numerical columns \n",
    "\n"
   ]
  },
  {
   "cell_type": "code",
   "execution_count": 39,
   "id": "e2f55b8f",
   "metadata": {},
   "outputs": [
    {
     "data": {
      "text/html": [
       "<div>\n",
       "<style scoped>\n",
       "    .dataframe tbody tr th:only-of-type {\n",
       "        vertical-align: middle;\n",
       "    }\n",
       "\n",
       "    .dataframe tbody tr th {\n",
       "        vertical-align: top;\n",
       "    }\n",
       "\n",
       "    .dataframe thead th {\n",
       "        text-align: right;\n",
       "    }\n",
       "</style>\n",
       "<table border=\"1\" class=\"dataframe\">\n",
       "  <thead>\n",
       "    <tr style=\"text-align: right;\">\n",
       "      <th></th>\n",
       "      <th>status</th>\n",
       "    </tr>\n",
       "  </thead>\n",
       "  <tbody>\n",
       "    <tr>\n",
       "      <th>0</th>\n",
       "      <td>A</td>\n",
       "    </tr>\n",
       "    <tr>\n",
       "      <th>1</th>\n",
       "      <td>B</td>\n",
       "    </tr>\n",
       "    <tr>\n",
       "      <th>2</th>\n",
       "      <td>A</td>\n",
       "    </tr>\n",
       "    <tr>\n",
       "      <th>3</th>\n",
       "      <td>A</td>\n",
       "    </tr>\n",
       "    <tr>\n",
       "      <th>4</th>\n",
       "      <td>A</td>\n",
       "    </tr>\n",
       "  </tbody>\n",
       "</table>\n",
       "</div>"
      ],
      "text/plain": [
       "  status\n",
       "0      A\n",
       "1      B\n",
       "2      A\n",
       "3      A\n",
       "4      A"
      ]
     },
     "execution_count": 39,
     "metadata": {},
     "output_type": "execute_result"
    }
   ],
   "source": [
    "cat = df.select_dtypes(include=object)\n",
    "cat.head()"
   ]
  },
  {
   "cell_type": "code",
   "execution_count": 43,
   "id": "3667ad32",
   "metadata": {},
   "outputs": [
    {
     "data": {
      "text/html": [
       "<div>\n",
       "<style scoped>\n",
       "    .dataframe tbody tr th:only-of-type {\n",
       "        vertical-align: middle;\n",
       "    }\n",
       "\n",
       "    .dataframe tbody tr th {\n",
       "        vertical-align: top;\n",
       "    }\n",
       "\n",
       "    .dataframe thead th {\n",
       "        text-align: right;\n",
       "    }\n",
       "</style>\n",
       "<table border=\"1\" class=\"dataframe\">\n",
       "  <thead>\n",
       "    <tr style=\"text-align: right;\">\n",
       "      <th></th>\n",
       "      <th>status_B</th>\n",
       "    </tr>\n",
       "  </thead>\n",
       "  <tbody>\n",
       "    <tr>\n",
       "      <th>0</th>\n",
       "      <td>0</td>\n",
       "    </tr>\n",
       "    <tr>\n",
       "      <th>1</th>\n",
       "      <td>1</td>\n",
       "    </tr>\n",
       "    <tr>\n",
       "      <th>2</th>\n",
       "      <td>0</td>\n",
       "    </tr>\n",
       "    <tr>\n",
       "      <th>3</th>\n",
       "      <td>0</td>\n",
       "    </tr>\n",
       "    <tr>\n",
       "      <th>4</th>\n",
       "      <td>0</td>\n",
       "    </tr>\n",
       "  </tbody>\n",
       "</table>\n",
       "</div>"
      ],
      "text/plain": [
       "   status_B\n",
       "0         0\n",
       "1         1\n",
       "2         0\n",
       "3         0\n",
       "4         0"
      ]
     },
     "execution_count": 43,
     "metadata": {},
     "output_type": "execute_result"
    }
   ],
   "source": [
    "categorical=pd.get_dummies(cat,columns=['status'],drop_first=True)\n",
    "categorical.head()"
   ]
  },
  {
   "cell_type": "code",
   "execution_count": 50,
   "id": "fdf4dc87",
   "metadata": {},
   "outputs": [],
   "source": [
    "#numerical scaling\n",
    "\n",
    "from sklearn.preprocessing import Normalizer"
   ]
  },
  {
   "cell_type": "code",
   "execution_count": 47,
   "id": "558b152f",
   "metadata": {},
   "outputs": [
    {
     "data": {
      "text/html": [
       "<div>\n",
       "<style scoped>\n",
       "    .dataframe tbody tr th:only-of-type {\n",
       "        vertical-align: middle;\n",
       "    }\n",
       "\n",
       "    .dataframe tbody tr th {\n",
       "        vertical-align: top;\n",
       "    }\n",
       "\n",
       "    .dataframe thead th {\n",
       "        text-align: right;\n",
       "    }\n",
       "</style>\n",
       "<table border=\"1\" class=\"dataframe\">\n",
       "  <thead>\n",
       "    <tr style=\"text-align: right;\">\n",
       "      <th></th>\n",
       "      <th>nooftrans</th>\n",
       "      <th>ageindays</th>\n",
       "      <th>95unemp</th>\n",
       "      <th>96unemp</th>\n",
       "      <th>loanamount</th>\n",
       "      <th>birth_number</th>\n",
       "      <th>crime95</th>\n",
       "      <th>crime96</th>\n",
       "      <th>ratiopaid</th>\n",
       "    </tr>\n",
       "  </thead>\n",
       "  <tbody>\n",
       "    <tr>\n",
       "      <th>0</th>\n",
       "      <td>374</td>\n",
       "      <td>2134</td>\n",
       "      <td>0.29</td>\n",
       "      <td>0.43</td>\n",
       "      <td>80952</td>\n",
       "      <td>450204</td>\n",
       "      <td>85677</td>\n",
       "      <td>99107</td>\n",
       "      <td>0.96</td>\n",
       "    </tr>\n",
       "    <tr>\n",
       "      <th>1</th>\n",
       "      <td>259</td>\n",
       "      <td>1364</td>\n",
       "      <td>1.51</td>\n",
       "      <td>2.07</td>\n",
       "      <td>30276</td>\n",
       "      <td>395423</td>\n",
       "      <td>2299</td>\n",
       "      <td>2354</td>\n",
       "      <td>0.92</td>\n",
       "    </tr>\n",
       "    <tr>\n",
       "      <th>2</th>\n",
       "      <td>225</td>\n",
       "      <td>886</td>\n",
       "      <td>4.09</td>\n",
       "      <td>4.72</td>\n",
       "      <td>30276</td>\n",
       "      <td>620209</td>\n",
       "      <td>5623</td>\n",
       "      <td>5887</td>\n",
       "      <td>0.92</td>\n",
       "    </tr>\n",
       "    <tr>\n",
       "      <th>3</th>\n",
       "      <td>295</td>\n",
       "      <td>1534</td>\n",
       "      <td>1.12</td>\n",
       "      <td>1.54</td>\n",
       "      <td>165960</td>\n",
       "      <td>445613</td>\n",
       "      <td>1874</td>\n",
       "      <td>1913</td>\n",
       "      <td>0.96</td>\n",
       "    </tr>\n",
       "    <tr>\n",
       "      <th>4</th>\n",
       "      <td>209</td>\n",
       "      <td>970</td>\n",
       "      <td>4.75</td>\n",
       "      <td>5.44</td>\n",
       "      <td>102876</td>\n",
       "      <td>420128</td>\n",
       "      <td>18782</td>\n",
       "      <td>18347</td>\n",
       "      <td>0.92</td>\n",
       "    </tr>\n",
       "  </tbody>\n",
       "</table>\n",
       "</div>"
      ],
      "text/plain": [
       "   nooftrans  ageindays  95unemp  96unemp  loanamount  birth_number  crime95  \\\n",
       "0        374       2134     0.29     0.43       80952        450204    85677   \n",
       "1        259       1364     1.51     2.07       30276        395423     2299   \n",
       "2        225        886     4.09     4.72       30276        620209     5623   \n",
       "3        295       1534     1.12     1.54      165960        445613     1874   \n",
       "4        209        970     4.75     5.44      102876        420128    18782   \n",
       "\n",
       "   crime96  ratiopaid  \n",
       "0    99107       0.96  \n",
       "1     2354       0.92  \n",
       "2     5887       0.92  \n",
       "3     1913       0.96  \n",
       "4    18347       0.92  "
      ]
     },
     "execution_count": 47,
     "metadata": {},
     "output_type": "execute_result"
    }
   ],
   "source": [
    "#select numerial features\n",
    "x = df.select_dtypes(include=np.number)\n",
    "x.head()"
   ]
  },
  {
   "cell_type": "code",
   "execution_count": 53,
   "id": "9f427f57",
   "metadata": {},
   "outputs": [
    {
     "data": {
      "text/plain": [
       "array([[7.86012150e-04, 4.48489286e-03, 6.09474662e-07, ...,\n",
       "        1.80061933e-01, 2.08286915e-01, 2.01757129e-06],\n",
       "       [6.53056788e-04, 3.43926432e-03, 3.80739672e-06, ...,\n",
       "        5.79682454e-03, 5.93550456e-03, 2.31973840e-06],\n",
       "       [3.62317924e-04, 1.42672747e-03, 6.58613471e-06, ...,\n",
       "        9.05472751e-03, 9.47984720e-03, 1.48147774e-06],\n",
       "       ...,\n",
       "       [5.02643230e-04, 2.97351715e-03, 4.27519921e-06, ...,\n",
       "        2.52004554e-03, 2.56648541e-03, 1.25660808e-06],\n",
       "       [4.43915356e-04, 2.27378426e-03, 6.97371978e-06, ...,\n",
       "        3.09422188e-03, 3.01657332e-03, 1.34786181e-06],\n",
       "       [3.81684646e-04, 1.83646629e-03, 9.02590332e-06, ...,\n",
       "        5.07452866e-03, 4.81642224e-03, 1.50171008e-06]])"
      ]
     },
     "execution_count": 53,
     "metadata": {},
     "output_type": "execute_result"
    }
   ],
   "source": [
    "scaler = Normalizer().fit(x)\n",
    "scaled = scaler.transform(x)\n",
    "scaled"
   ]
  },
  {
   "cell_type": "code",
   "execution_count": null,
   "id": "d99fb7e7",
   "metadata": {},
   "outputs": [],
   "source": [
    "#Id you had more categorical features thasn just label in status then we would just concat\n",
    "# X=np.concatenate([scaled_X,categorical],axis=1)"
   ]
  },
  {
   "cell_type": "markdown",
   "id": "reduced-teaching",
   "metadata": {},
   "source": [
    "### split off the dependant variable (label)"
   ]
  },
  {
   "cell_type": "code",
   "execution_count": 61,
   "id": "likely-motion",
   "metadata": {},
   "outputs": [],
   "source": [
    "# y = depependent variable  (status library)\n",
    "\n",
    "X = scaled\n",
    "y = categorical['status_B']\n"
   ]
  },
  {
   "cell_type": "markdown",
   "id": "improving-article",
   "metadata": {},
   "source": [
    "### train test split, get LOG REG model"
   ]
  },
  {
   "cell_type": "code",
   "execution_count": 62,
   "id": "southwest-poster",
   "metadata": {},
   "outputs": [],
   "source": [
    "from sklearn.linear_model import LogisticRegression\n",
    "from sklearn.model_selection import train_test_split \n",
    "X_train, X_test, y_train, y_test = train_test_split(X,y, test_size=0.3, random_state=40)"
   ]
  },
  {
   "cell_type": "markdown",
   "id": "ruled-management",
   "metadata": {},
   "source": [
    "## apply model and train model "
   ]
  },
  {
   "cell_type": "code",
   "execution_count": 67,
   "id": "b82f631f",
   "metadata": {},
   "outputs": [],
   "source": [
    "classification = LogisticRegression(solver='liblinear',multi_class='ovr').fit(X_train,y_train)"
   ]
  },
  {
   "cell_type": "code",
   "execution_count": null,
   "id": "e47151ab",
   "metadata": {},
   "outputs": [],
   "source": [
    "#add to the parameters as wished"
   ]
  },
  {
   "cell_type": "markdown",
   "id": "hydraulic-depth",
   "metadata": {},
   "source": [
    "### evaluate accuracy and test "
   ]
  },
  {
   "cell_type": "code",
   "execution_count": 71,
   "id": "accomplished-marker",
   "metadata": {},
   "outputs": [
    {
     "name": "stdout",
     "output_type": "stream",
     "text": [
      "0.7817460317460317\n"
     ]
    }
   ],
   "source": [
    "import sklearn.metrics as metrics\n",
    "probabilities = classification.predict_proba(X_test)\n",
    "preds = probabilities[:,1]\n",
    "fpr,tpr, threshold = metrics.roc_curve(y_test, preds)\n",
    "roc_auc = metrics.auc(fpr,tpr)\n",
    "print(roc_auc)"
   ]
  },
  {
   "cell_type": "markdown",
   "id": "faa370ec",
   "metadata": {},
   "source": [
    "#### next steps\n",
    "\n",
    "+ Visualise the accuracy of the predictions in some ways \n",
    "\n",
    "+ also think about - is there something I could do to improve my model accuracy?? "
   ]
  },
  {
   "cell_type": "markdown",
   "id": "double-mother",
   "metadata": {},
   "source": [
    "### visualising accuracy - ROC / AUC "
   ]
  },
  {
   "cell_type": "code",
   "execution_count": 73,
   "id": "3556c26a",
   "metadata": {},
   "outputs": [
    {
     "data": {
      "image/png": "[encoded data removed]",
      "text/plain": [
       "<Figure size 432x288 with 1 Axes>"
      ]
     },
     "metadata": {
      "needs_background": "light"
     },
     "output_type": "display_data"
    }
   ],
   "source": [
    "#roc curve plot\n",
    "plt.title('Receiver Operating Characteristic')\n",
    "plt.plot(fpr,tpr, label='AUC'%roc_auc)\n",
    "plt.plot([0, 1], [0, 1], 'k--')\n",
    "plt.xlim([0.0, 1.0])\n",
    "plt.ylim([0.0, 1.05])\n",
    "plt.ylabel('true positive rate')\n",
    "plt.xlabel('false positive rate')\n",
    "plt.show()"
   ]
  },
  {
   "cell_type": "markdown",
   "id": "a6e6812c",
   "metadata": {},
   "source": [
    "### visualising accuracy - Confusion Matrix"
   ]
  },
  {
   "cell_type": "markdown",
   "id": "d0557d3b",
   "metadata": {},
   "source": [
    "##### definitions \n",
    "+ tpr = true positive rate \n",
    "+ fpr = false positive rate"
   ]
  },
  {
   "cell_type": "code",
   "execution_count": 81,
   "id": "53866b1d",
   "metadata": {},
   "outputs": [],
   "source": [
    "from sklearn.metrics import accuracy_score\n",
    "\n",
    "predictions = classification.predict(X_test)"
   ]
  },
  {
   "cell_type": "code",
   "execution_count": 85,
   "id": "2529a199",
   "metadata": {},
   "outputs": [
    {
     "data": {
      "image/png": "[encoded data removed]",
      "text/plain": [
       "<Figure size 432x288 with 2 Axes>"
      ]
     },
     "metadata": {
      "needs_background": "light"
     },
     "output_type": "display_data"
    }
   ],
   "source": [
    "from sklearn.metrics import confusion_matrix\n",
    "from sklearn.metrics import plot_confusion_matrix\n",
    "\n",
    "accuracy_score(y_test, predictions)\n",
    "confusion_matrix(y_test, predictions)\n",
    "plot_confusion_matrix(classification, X_test, y_test)\n",
    "plt.show()"
   ]
  },
  {
   "cell_type": "code",
   "execution_count": null,
   "id": "3676dc65",
   "metadata": {},
   "outputs": [],
   "source": []
  },
  {
   "cell_type": "code",
   "execution_count": null,
   "id": "fec01157",
   "metadata": {},
   "outputs": [],
   "source": []
  },
  {
   "cell_type": "markdown",
   "id": "physical-aaron",
   "metadata": {},
   "source": [
    "### data is highly imbalanced\n",
    "\n",
    "this is affecting the accuracy of our predictions \n",
    "- what can be done to resolve that ?\n",
    "\n",
    "\n",
    "+ option 1 - SMOTE \n",
    "\n",
    "+ option 2 - TOMEK LINKS \n",
    "\n"
   ]
  },
  {
   "cell_type": "code",
   "execution_count": null,
   "id": "preceding-country",
   "metadata": {},
   "outputs": [],
   "source": []
  },
  {
   "cell_type": "code",
   "execution_count": null,
   "id": "f0d43fcc",
   "metadata": {},
   "outputs": [],
   "source": []
  },
  {
   "cell_type": "code",
   "execution_count": null,
   "id": "a82b0878",
   "metadata": {},
   "outputs": [],
   "source": []
  },
  {
   "cell_type": "code",
   "execution_count": null,
   "id": "ac38e164",
   "metadata": {},
   "outputs": [],
   "source": []
  }
 ],
 "metadata": {
  "kernelspec": {
   "display_name": "Python 3",
   "language": "python",
   "name": "python3"
  },
  "language_info": {
   "codemirror_mode": {
    "name": "ipython",
    "version": 3
   },
   "file_extension": ".py",
   "mimetype": "text/x-python",
   "name": "python",
   "nbconvert_exporter": "python",
   "pygments_lexer": "ipython3",
   "version": "3.8.8"
  }
 },
 "nbformat": 4,
 "nbformat_minor": 5
}
